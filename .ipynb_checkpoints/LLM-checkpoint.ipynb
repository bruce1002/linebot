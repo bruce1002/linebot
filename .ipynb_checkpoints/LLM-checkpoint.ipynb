{
 "cells": [
  {
   "cell_type": "code",
   "execution_count": 1,
   "id": "29416b76-9838-4c83-b0cf-46da3ed0ba55",
   "metadata": {},
   "outputs": [
    {
     "name": "stdout",
     "output_type": "stream",
     "text": [
      "Running on local URL:  http://127.0.0.1:7863\n",
      "Running on public URL: https://f63fceb3dfdf190e24.gradio.live\n",
      "\n",
      "This share link expires in 72 hours. For free permanent hosting and GPU upgrades, run `gradio deploy` from Terminal to deploy to Spaces (https://huggingface.co/spaces)\n"
     ]
    },
    {
     "data": {
      "text/html": [
       "<div><iframe src=\"https://f63fceb3dfdf190e24.gradio.live\" width=\"100%\" height=\"500\" allow=\"autoplay; camera; microphone; clipboard-read; clipboard-write;\" frameborder=\"0\" allowfullscreen></iframe></div>"
      ],
      "text/plain": [
       "<IPython.core.display.HTML object>"
      ]
     },
     "metadata": {},
     "output_type": "display_data"
    },
    {
     "data": {
      "text/plain": []
     },
     "execution_count": 1,
     "metadata": {},
     "output_type": "execute_result"
    }
   ],
   "source": [
    "import gradio as gr\n",
    "import requests\n",
    "# 載入模型和分詞器\n",
    "model_name = \"Qwen/Qwen2-0.5B\"\n",
    "def call_llm_api(question):\n",
    "    # 設定外部 API 的 URL\n",
    "    api_url = \"http://192.168.3.123:8080/qa\"  # 此處替換為實際的 Flask API 地址   \n",
    "    # 向外部 API 發送請求並獲取回傳答案\n",
    "    response = requests.post(api_url, json={\"text\": question})  \n",
    "    if response.status_code == 200:\n",
    "        # 解析並回傳答案\n",
    "        answer = response.json().get(\"answer\", \"無法獲取答案\")\n",
    "        return answer\n",
    "    else:\n",
    "        return \"發生錯誤: 無法從 API 獲取答案。\"\n",
    "# 使用 Gradio 建立介面\n",
    "iface = gr.Interface(\n",
    "    fn=call_llm_api,  # 綁定處理函數\n",
    "    inputs=\"text\",  # 設置輸入類型為文字\n",
    "    outputs=\"text\",  # 設置輸出類型為文字\n",
    "    title=\"繁體中文 LLM QA 問答系統\",  # 設置介面標題\n",
    "    description=f\"輸入您的問題，獲取 {model_name} 模型的回答。\",  # 設置介面描述\n",
    ")\n",
    "# 啟動 Gradio 介面並提供外部連結\n",
    "iface.launch(share=True)"
   ]
  },
  {
   "cell_type": "code",
   "execution_count": null,
   "id": "ddb9115e-06e4-4f65-966f-d6bf5eab0abe",
   "metadata": {},
   "outputs": [],
   "source": []
  }
 ],
 "metadata": {
  "kernelspec": {
   "display_name": "Python 3 (ipykernel)",
   "language": "python",
   "name": "python3"
  },
  "language_info": {
   "codemirror_mode": {
    "name": "ipython",
    "version": 3
   },
   "file_extension": ".py",
   "mimetype": "text/x-python",
   "name": "python",
   "nbconvert_exporter": "python",
   "pygments_lexer": "ipython3",
   "version": "3.11.9"
  }
 },
 "nbformat": 4,
 "nbformat_minor": 5
}
